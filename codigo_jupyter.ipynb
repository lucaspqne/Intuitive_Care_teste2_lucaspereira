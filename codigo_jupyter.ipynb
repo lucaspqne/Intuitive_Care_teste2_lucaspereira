{
 "cells": [
  {
   "cell_type": "code",
   "execution_count": 8,
   "id": "12abc3e3",
   "metadata": {},
   "outputs": [],
   "source": [
    "import os\n",
    "import requests\n",
    "import pandas as pd\n",
    "import tabula\n",
    "from zipfile import ZipFile"
   ]
  },
  {
   "cell_type": "code",
   "execution_count": 9,
   "id": "bc3dfa1b",
   "metadata": {},
   "outputs": [
    {
     "name": "stdout",
     "output_type": "stream",
     "text": [
      "Digite o diretório onde salvar o arquivo PDF: C:\\Users\\Lucas\\Desktop\\intuitive_care\\teste2\\testeeeeeee\n",
      "Arquivo baixado com sucesso!\n"
     ]
    }
   ],
   "source": [
    "# Definir URL e diretório\n",
    "url = 'https://www.gov.br/ans/pt-br/assuntos/consumidor/o-que-o-seu-plano-de-saude-deve-cobrir-1/Anexo_I_Rol_2021RN_465.2021_RN473_RN478_RN480_RN513_RN536_RN537_RN538_RN539_RN541_RN542_RN544_546_571_577.pdf'\n",
    "diretorio = input(\"Digite o diretório onde salvar o arquivo PDF: \")\n",
    "\n",
    "# Baixar o arquivo PDF\n",
    "nome_arquivo = os.path.basename(url)\n",
    "requisicao = requests.get(url)\n",
    "caminho_arquivo = os.path.join(diretorio, nome_arquivo)\n",
    "with open(caminho_arquivo, 'wb') as nv_arquivo:\n",
    "    nv_arquivo.write(requisicao.content)\n",
    "\n",
    "print(\"Arquivo baixado com sucesso!\")"
   ]
  },
  {
   "cell_type": "code",
   "execution_count": 10,
   "id": "ce118cbd",
   "metadata": {},
   "outputs": [
    {
     "name": "stdout",
     "output_type": "stream",
     "text": [
      "Digite o caminho onde deseja salvar o PDF convertido para CSV: C:\\Users\\Lucas\\Desktop\\intuitive_care\\teste2\\testeeeeeee\n",
      "Arquivo convertido com sucesso!\n",
      "\n"
     ]
    }
   ],
   "source": [
    "# Converter PDF para CSV\n",
    "#caminho_arquivo = input(\"Digite o caminho onde se encontra o PDF a ser importado: \")\n",
    "novo_arquivo = input(\"Digite o caminho onde deseja salvar o PDF convertido para CSV: \")\n",
    "tabula.convert_into(caminho_arquivo, (novo_arquivo + \"\\\\tabela_convertida.csv\"), output_format=\"csv\", pages='3')\n",
    "print(\"Arquivo convertido com sucesso!\\n\")"
   ]
  },
  {
   "cell_type": "code",
   "execution_count": 11,
   "id": "dd0f66da",
   "metadata": {},
   "outputs": [
    {
     "name": "stdout",
     "output_type": "stream",
     "text": [
      "Tabela importada com sucesso!\n",
      "Tabela formatada com sucesso!\n"
     ]
    }
   ],
   "source": [
    "# Abrir e formatar tabela\n",
    "tabela = pd.read_csv((novo_arquivo + \"\\\\tabela_convertida.csv\"), encoding='iso8859-1')\n",
    "print(\"Tabela importada com sucesso!\")\n",
    "########### BONUS #############\n",
    "tabela.columns = ['PROCEDIMENTO', 'RN(alteração)', 'VIGÊNCIA', 'Seg. Odontológica', 'Seg. Ambulatorial', 'HCO', 'HSO', 'REF', 'PAC', 'DUT', 'SUBGRUPO', 'GRUPO', 'CAPÍTULO']\n",
    "########### BONUS #############\n",
    "df = pd.DataFrame(data=tabela)\n",
    "df = df.fillna('')\n",
    "\n",
    " #cabeçalho estava sendo replicado para o corpo das informações\n",
    "linhas_remover = df[df['PROCEDIMENTO'].str.contains(\"PROCEDIMENTO\")].index\n",
    "df = df.drop(linhas_remover)\n",
    "print(\"Tabela formatada com sucesso!\")\n"
   ]
  },
  {
   "cell_type": "code",
   "execution_count": 12,
   "id": "9ee18600",
   "metadata": {},
   "outputs": [
    {
     "name": "stdout",
     "output_type": "stream",
     "text": [
      "Digite o diretório que deseja salvar a tabela formatada: C:\\Users\\Lucas\\Desktop\\intuitive_care\\teste2\\testeeeeeee\n",
      "Tabela formatada e exportada com sucesso!\n"
     ]
    }
   ],
   "source": [
    "# Formatar tabela e exportar para CSV\n",
    "valores_substituir = [\",\",\"\\r\"]\n",
    "tabela_formatada = df.replace((valores_substituir[0], valores_substituir[1]), \" \", regex=True)\n",
    "arquivo_final = input(\"Digite o diretório que deseja salvar a tabela formatada: \")\n",
    "tabela_formatada.to_csv(arquivo_final + \"\\\\Teste_{lucas_pereira}.csv\", index=False, encoding='iso8859-1')\n",
    "print(\"Tabela formatada e exportada com sucesso!\")"
   ]
  },
  {
   "cell_type": "code",
   "execution_count": 13,
   "id": "b1b187b9",
   "metadata": {},
   "outputs": [
    {
     "name": "stdout",
     "output_type": "stream",
     "text": [
      "Digite o diretório onde deseja salvar a tabela CSV como arquivo zip: C:\\Users\\Lucas\\Desktop\\intuitive_care\\teste2\\testeeeeeee\n",
      "Arquivo compactado com sucesso!\n"
     ]
    }
   ],
   "source": [
    "# Compactar tabela como arquivo zip\n",
    "diretorio_zip = input(\"Digite o diretório onde deseja salvar a tabela CSV como arquivo zip: \")\n",
    "with ZipFile(diretorio_zip + '\\\\Teste_{lucas_pereira}.zip', 'w') as zip:\n",
    "    zip.write(arquivo_final + '\\\\Teste_{lucas_pereira}.csv', 'TabelaCSV_Formatada(lucas_pereira).csv')\n",
    "    print(\"Arquivo compactado com sucesso!\")"
   ]
  },
  {
   "cell_type": "code",
   "execution_count": 14,
   "id": "7faa287a",
   "metadata": {},
   "outputs": [
    {
     "name": "stdout",
     "output_type": "stream",
     "text": [
      "Arquivos removidos com sucesso!\n"
     ]
    }
   ],
   "source": [
    "# Excluir os arquivos gerados e deixar somente o arquivo ZIP\n",
    "os.remove(novo_arquivo + \"\\\\tabela_convertida.csv\")\n",
    "os.remove(arquivo_final + \"\\\\Teste_{lucas_pereira}.csv\")\n",
    "os.remove(caminho_arquivo)\n",
    "print(\"Arquivos removidos com sucesso!\")"
   ]
  },
  {
   "cell_type": "code",
   "execution_count": null,
   "id": "b48f665a",
   "metadata": {},
   "outputs": [],
   "source": []
  }
 ],
 "metadata": {
  "kernelspec": {
   "display_name": "Python 3 (ipykernel)",
   "language": "python",
   "name": "python3"
  },
  "language_info": {
   "codemirror_mode": {
    "name": "ipython",
    "version": 3
   },
   "file_extension": ".py",
   "mimetype": "text/x-python",
   "name": "python",
   "nbconvert_exporter": "python",
   "pygments_lexer": "ipython3",
   "version": "3.10.9"
  }
 },
 "nbformat": 4,
 "nbformat_minor": 5
}
